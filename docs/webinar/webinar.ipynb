{
 "cells": [
  {
   "cell_type": "code",
   "execution_count": 1,
   "metadata": {},
   "outputs": [],
   "source": [
    "import numpy as np\n",
    "from sklearn.linear_model import LogisticRegression\n",
    "from sklearn.model_selection import cross_val_score\n",
    "\n",
    "import warnings\n",
    "from sklearn.exceptions import ConvergenceWarning\n",
    "warnings.filterwarnings(action='ignore', category=ConvergenceWarning)"
   ]
  },
  {
   "cell_type": "markdown",
   "metadata": {
    "tags": []
   },
   "source": [
    "## Иерархия алгоритмов:\n",
    "![title](img/classes.jpg)"
   ]
  },
  {
   "cell_type": "code",
   "execution_count": 2,
   "metadata": {},
   "outputs": [],
   "source": [
    "from sklearn.datasets import make_classification\n",
    "\n",
    "datasets = {}\n",
    "datasets['X_wide'], datasets['y_wide'] = make_classification(\n",
    "    n_samples=100, n_features=2000,\n",
    "    n_informative=50, n_redundant=0,\n",
    "    shuffle=False, random_state=42,\n",
    "    n_classes=5)\n",
    "\n",
    "datasets['X_mid'], datasets['y_mid'] = make_classification(\n",
    "    n_samples=800, n_features=800,\n",
    "    n_informative=50, n_redundant=0,\n",
    "    shuffle=False, random_state=42,\n",
    "    n_classes=5)\n",
    "\n",
    "datasets['X_tall'], datasets['y_tall'] = make_classification(\n",
    "    n_samples=2000, n_features=100,\n",
    "    n_informative=10, n_redundant=0,\n",
    "    shuffle=False, random_state=42,\n",
    "    n_classes=5)\n",
    "\n",
    "datasets['X_clustered'], datasets['y_clustered'] = make_classification(\n",
    "    n_samples=500, n_features=50,\n",
    "    n_informative=8, n_redundant=0,\n",
    "    shuffle=False, random_state=42,\n",
    "    n_classes=5, n_clusters_per_class=1)\n",
    "\n",
    "from sklearn.preprocessing import KBinsDiscretizer\n",
    "datasets_discretized = {}\n",
    "est = KBinsDiscretizer(n_bins=20, encode='ordinal')\n",
    "for k, v in datasets.items():\n",
    "    if k.startswith('X'):\n",
    "        datasets_discretized[k] = est.fit_transform(v)\n",
    "    else:\n",
    "        datasets_discretized[k] = v"
   ]
  },
  {
   "cell_type": "code",
   "execution_count": 17,
   "metadata": {},
   "outputs": [
    {
     "name": "stdout",
     "output_type": "stream",
     "text": [
      "[[-1.70668357  1.78643355 -3.68359706 ...  0.53050257  0.53504519\n",
      "  -0.71670883]\n",
      " [-2.81445618 -0.7109764  -2.37447969 ...  0.49091535 -0.21800281\n",
      "  -1.09764465]\n",
      " [-2.4573421   1.05273718 -1.69359949 ... -0.29152131  1.2759773\n",
      "  -1.37745741]\n",
      " ...\n",
      " [ 1.31613119  1.42530803 -0.54350685 ... -0.58089393  0.00901122\n",
      "   0.5965405 ]\n",
      " [-2.10545301 -0.89867634  2.08439813 ...  0.04125804 -0.19896326\n",
      "  -0.84588299]\n",
      " [ 1.1035561   2.00816396  0.83761519 ... -0.82787821  1.62251799\n",
      "  -0.11674565]]\n",
      "Shape: (500, 50) ----> (500, 10)\n",
      "[ 6  2  7  4  0  1  3 33 31 41]\n"
     ]
    }
   ],
   "source": [
    "from ITMO_FS.filters.univariate import UnivariateFilter\n",
    "from ITMO_FS.filters.univariate.measures import f_ratio_measure\n",
    "f = UnivariateFilter(f_ratio_measure, (\"K best\", 10))\n",
    "X, y = datasets['X_clustered'], datasets['y_clustered']\n",
    "X_tr = f.fit_transform(X, y)\n",
    "print(X_tr)\n",
    "print(\"Shape: %s ----> %s\" % (X.shape, X_tr.shape))\n",
    "print(f.selected_features_)"
   ]
  },
  {
   "cell_type": "code",
   "execution_count": 3,
   "metadata": {},
   "outputs": [],
   "source": [
    "exec_times = {}\n",
    "scores = {}\n",
    "bases = {}\n",
    "labels = {}\n",
    "exec_times_d = {}\n",
    "scores_d = {}\n",
    "bases_d = {}\n",
    "labels_d = {}\n",
    "for ds in ['wide', 'mid', 'tall', 'clustered']:\n",
    "    exec_times[ds] = []\n",
    "    scores[ds] = []\n",
    "    bases[ds] = None\n",
    "    labels[ds] = []\n",
    "    exec_times_d[ds] = []\n",
    "    scores_d[ds] = []\n",
    "    bases_d[ds] = None\n",
    "    labels_d[ds] = []\n",
    "\n",
    "def run_model(model, discretized, model_name,\n",
    "              d=['wide', 'mid', 'tall', 'clustered'],\n",
    "              estimator=LogisticRegression(),\n",
    "              cv=10, measure='f1_macro'):\n",
    "    if discretized:\n",
    "        exec_times_source = exec_times_d\n",
    "        scores_source = scores_d\n",
    "        labels_source = labels_d\n",
    "        dataset_source = datasets_discretized\n",
    "        bases_source = bases_d\n",
    "    else:\n",
    "        exec_times_source = exec_times\n",
    "        scores_source = scores\n",
    "        labels_source = labels\n",
    "        dataset_source = datasets\n",
    "        bases_source = bases\n",
    "    for ds in d:\n",
    "        X = dataset_source['X_' + ds]\n",
    "        y = dataset_source['y_' + ds]\n",
    "        if bases_source[ds] is None:\n",
    "            base_score = cross_val_score(\n",
    "                estimator, X, y, cv=cv,\n",
    "                scoring=measure).mean()\n",
    "            bases_source[ds] = base_score\n",
    "        else:\n",
    "            base_score = bases_source[ds]\n",
    "        print(\"Base score for %s classification: %.3f\" % (ds, base_score))\n",
    "        print(\"Running the model on %s classification:\" % ds)\n",
    "        time, score = run_model_ds(model, X, y, estimator, cv, measure)\n",
    "        print(\"Results for model %s: execution time = %.5f s, \"\n",
    "          \"resulting measure = %.3f\" % (model_name, time, score))\n",
    "        exec_times_source[ds].append(time)\n",
    "        scores_source[ds].append(score)\n",
    "        labels_source[ds].append(model_name)\n",
    "\n",
    "def run_model_ds(model, X, y, estimator, cv, measure):\n",
    "    t = %timeit -q -n 1 -r 1 -o model.fit(X, y)\n",
    "    X_ = X[:, model.selected_features_]\n",
    "    print(\"Selected %d features out of %d: %s\"\n",
    "          % (model.selected_features_.shape[0], X.shape[1],\n",
    "             model.selected_features_))\n",
    "    score = cross_val_score(\n",
    "        estimator, X_, y, cv=cv,\n",
    "        scoring=measure).mean()\n",
    "    return t.best, score"
   ]
  },
  {
   "cell_type": "code",
   "execution_count": 4,
   "metadata": {},
   "outputs": [],
   "source": [
    "from matplotlib import pyplot as plt\n",
    "import mpld3\n",
    "\n",
    "\n",
    "mpld3.enable_notebook()\n",
    "\n",
    "def plot_results(ds, discretized):\n",
    "    fig, ax = plt.subplots()\n",
    "    ax.set_xlabel('Time')\n",
    "    ax.set_ylabel('Score')\n",
    "    if discretized:\n",
    "        scores_source = scores_d\n",
    "        exec_times_source = exec_times_d\n",
    "        base_source = bases_d\n",
    "        labels_source = labels_d\n",
    "    else:\n",
    "        scores_source = scores\n",
    "        exec_times_source = exec_times\n",
    "        base_source = bases\n",
    "        labels_source = labels\n",
    "    scatter = ax.scatter(\n",
    "        exec_times_source[ds], scores_source[ds],\n",
    "        c=np.random.random(size=len(scores_source[ds])))\n",
    "    xmin, xmax = ax.get_xlim()\n",
    "    ax.hlines(base_source[ds], xmin, xmax)\n",
    "\n",
    "    tooltip = mpld3.plugins.PointLabelTooltip(scatter, labels=labels_source[ds])\n",
    "    mpld3.plugins.connect(fig, tooltip)\n",
    "\n",
    "    plt.show()\n"
   ]
  },
  {
   "cell_type": "markdown",
   "metadata": {},
   "source": [
    "## Фильтрующие алгоритмы\n",
    "![title](img/filters.jpg)"
   ]
  },
  {
   "cell_type": "code",
   "execution_count": 18,
   "metadata": {},
   "outputs": [
    {
     "name": "stdout",
     "output_type": "stream",
     "text": [
      "Base score for wide classification: 0.132\n",
      "Running the model on wide classification:\n",
      "Selected 10 features out of 2000: [1034  354 1669 1710 1618  544  442  848  242 1347]\n",
      "Results for model Univariate(Gini, 10): execution time = 1.61508 s, resulting measure = 0.278\n",
      "Base score for mid classification: 0.299\n",
      "Running the model on mid classification:\n",
      "Selected 10 features out of 800: [ 30   0  24   1 472 416  19 227  54  42]\n",
      "Results for model Univariate(Gini, 10): execution time = 0.67682 s, resulting measure = 0.342\n",
      "Base score for tall classification: 0.521\n",
      "Running the model on tall classification:\n",
      "Selected 10 features out of 100: [5 7 8 2 4 3 6 9 0 1]\n",
      "Results for model Univariate(Gini, 10): execution time = 0.11734 s, resulting measure = 0.573\n",
      "Base score for clustered classification: 0.562\n",
      "Running the model on clustered classification:\n",
      "Selected 10 features out of 50: [ 1  7  2  6  4  3  0 47 17 33]\n",
      "Results for model Univariate(Gini, 10): execution time = 0.04276 s, resulting measure = 0.664\n"
     ]
    }
   ],
   "source": [
    "from ITMO_FS.filters.univariate import select_k_best\n",
    "from ITMO_FS.filters.univariate import UnivariateFilter\n",
    "from ITMO_FS.filters.univariate import gini_index\n",
    "f = UnivariateFilter(gini_index, select_k_best(10))\n",
    "run_model(f, True, 'Univariate(Gini, 10)')"
   ]
  },
  {
   "cell_type": "code",
   "execution_count": 19,
   "metadata": {},
   "outputs": [
    {
     "name": "stdout",
     "output_type": "stream",
     "text": [
      "Base score for wide classification: 0.132\n",
      "Running the model on wide classification:\n",
      "Selected 10 features out of 2000: [1122   20 1777   26   21  658  910  545 1677 1372]\n",
      "Results for model Univariate(Spearman, 10): execution time = 0.15752 s, resulting measure = 0.246\n",
      "Base score for mid classification: 0.299\n",
      "Running the model on mid classification:\n",
      "Selected 10 features out of 800: [  9 764  20 307 340  19 735 624 733 389]\n",
      "Results for model Univariate(Spearman, 10): execution time = 0.11544 s, resulting measure = 0.237\n",
      "Base score for tall classification: 0.521\n",
      "Running the model on tall classification:\n",
      "Selected 10 features out of 100: [ 6  3  4 10 92 83 72 35  0 42]\n",
      "Results for model Univariate(Spearman, 10): execution time = 0.02743 s, resulting measure = 0.352\n",
      "Base score for clustered classification: 0.562\n",
      "Running the model on clustered classification:\n",
      "Selected 10 features out of 50: [ 3  7  1  4 41 34 25 32 19 31]\n",
      "Results for model Univariate(Spearman, 10): execution time = 0.00578 s, resulting measure = 0.493\n"
     ]
    }
   ],
   "source": [
    "from ITMO_FS.filters.univariate import spearman_corr\n",
    "f = UnivariateFilter(spearman_corr, select_k_best(10))\n",
    "run_model(f, True, 'Univariate(Spearman, 10)')"
   ]
  },
  {
   "cell_type": "code",
   "execution_count": 20,
   "metadata": {},
   "outputs": [
    {
     "name": "stdout",
     "output_type": "stream",
     "text": [
      "Base score for wide classification: 0.280\n",
      "Running the model on wide classification:\n",
      "Selected 10 features out of 2000: [1779 1762  850   26  158  658  141 1530 1090  508]\n",
      "Results for model Univariate(TScore, 10): execution time = 0.39288 s, resulting measure = 0.325\n",
      "Base score for mid classification: 0.410\n",
      "Running the model on mid classification:\n",
      "Selected 10 features out of 800: [ 1  0 18 32  6 20 44 42 24 49]\n",
      "Results for model Univariate(TScore, 10): execution time = 0.13798 s, resulting measure = 0.352\n",
      "Base score for tall classification: 0.532\n",
      "Running the model on tall classification:\n",
      "Selected 10 features out of 100: [ 6  7  2  3  8  4  5  0 30 10]\n",
      "Results for model Univariate(TScore, 10): execution time = 0.02495 s, resulting measure = 0.548\n",
      "Base score for clustered classification: 0.589\n",
      "Running the model on clustered classification:\n",
      "Selected 10 features out of 50: [ 1  0  6  3 33 34 35 15 44 41]\n",
      "Results for model Univariate(TScore, 10): execution time = 0.01182 s, resulting measure = 0.535\n"
     ]
    }
   ],
   "source": [
    "from ITMO_FS.filters.univariate import modified_t_score\n",
    "f = UnivariateFilter(modified_t_score, select_k_best(10))\n",
    "run_model(f, False, 'Univariate(TScore, 10)')"
   ]
  },
  {
   "cell_type": "code",
   "execution_count": 21,
   "metadata": {},
   "outputs": [
    {
     "name": "stdout",
     "output_type": "stream",
     "text": [
      "Base score for wide classification: 0.280\n",
      "Running the model on wide classification:\n",
      "Selected 10 features out of 2000: [1090  364  158  923 1317 1762 1779   52   21  872]\n",
      "Results for model Univariate(FRatio, 10): execution time = 0.85801 s, resulting measure = 0.495\n",
      "Base score for mid classification: 0.410\n",
      "Running the model on mid classification:\n",
      "Selected 10 features out of 800: [30  0 24 42  1 35 29 36 18 44]\n",
      "Results for model Univariate(FRatio, 10): execution time = 0.37049 s, resulting measure = 0.386\n",
      "Base score for tall classification: 0.532\n",
      "Running the model on tall classification:\n",
      "Selected 10 features out of 100: [5 7 4 8 3 2 6 9 1 0]\n",
      "Results for model Univariate(FRatio, 10): execution time = 0.04258 s, resulting measure = 0.577\n",
      "Base score for clustered classification: 0.589\n",
      "Running the model on clustered classification:\n",
      "Selected 10 features out of 50: [ 6  2  7  4  0  1  3 33 31 41]\n",
      "Results for model Univariate(FRatio, 10): execution time = 0.02294 s, resulting measure = 0.682\n"
     ]
    }
   ],
   "source": [
    "from ITMO_FS.filters.univariate import f_ratio_measure\n",
    "f = UnivariateFilter(f_ratio_measure, select_k_best(10))\n",
    "run_model(f, False, 'Univariate(FRatio, 10)')"
   ]
  },
  {
   "cell_type": "code",
   "execution_count": 5,
   "metadata": {},
   "outputs": [
    {
     "name": "stdout",
     "output_type": "stream",
     "text": [
      "Base score for wide classification: 0.280\n",
      "Running the model on wide classification:\n",
      "Selected 10 features out of 2000: [ 508 1090  923 1317  637 1829  158 1779 1972 1762]\n",
      "Results for model SPEC(10): execution time = 2.66004 s, resulting measure = 0.505\n",
      "Base score for mid classification: 0.410\n",
      "Running the model on mid classification:\n",
      "Selected 10 features out of 800: [ 0 19 30  1 31 23 42  5 35 44]\n",
      "Results for model SPEC(10): execution time = 10.83772 s, resulting measure = 0.405\n",
      "Base score for tall classification: 0.532\n",
      "Running the model on tall classification:\n",
      "Selected 10 features out of 100: [5 2 4 7 9 8 3 1 6 0]\n",
      "Results for model SPEC(10): execution time = 15.76174 s, resulting measure = 0.577\n",
      "Base score for clustered classification: 0.589\n",
      "Running the model on clustered classification:\n",
      "Selected 10 features out of 50: [ 1  5  2  6  3  7  4  0 33 31]\n",
      "Results for model SPEC(10): execution time = 1.09706 s, resulting measure = 0.691\n"
     ]
    }
   ],
   "source": [
    "from ITMO_FS.filters.univariate import SPEC\n",
    "f = SPEC(10)\n",
    "run_model(f, False, 'SPEC(10)')"
   ]
  },
  {
   "cell_type": "code",
   "execution_count": 6,
   "metadata": {},
   "outputs": [
    {
     "name": "stdout",
     "output_type": "stream",
     "text": [
      "Base score for tall classification: 0.521\n",
      "Running the model on tall classification:\n",
      "Selected 10 features out of 100: [5 4 2 7 8 3 9 6 0 1]\n",
      "Results for model Multivariate(JMI, 10): execution time = 31.91054 s, resulting measure = 0.573\n",
      "Base score for clustered classification: 0.562\n",
      "Running the model on clustered classification:\n",
      "Selected 10 features out of 50: [ 7  2  1  3  4  6  0 29 49  9]\n",
      "Results for model Multivariate(JMI, 10): execution time = 2.89335 s, resulting measure = 0.649\n"
     ]
    }
   ],
   "source": [
    "from ITMO_FS.filters.multivariate import MultivariateFilter\n",
    "from ITMO_FS.filters.multivariate import JMI\n",
    "f = MultivariateFilter('JMI', 10)\n",
    "run_model(f, True, 'Multivariate(JMI, 10)', ['tall', 'clustered'])"
   ]
  },
  {
   "cell_type": "code",
   "execution_count": 7,
   "metadata": {},
   "outputs": [
    {
     "name": "stdout",
     "output_type": "stream",
     "text": [
      "Base score for tall classification: 0.521\n",
      "Running the model on tall classification:\n",
      "Selected 10 features out of 100: [ 1  2  3  4  5  6  7  8  9 43]\n",
      "Results for model DISR(10): execution time = 77.63904 s, resulting measure = 0.562\n",
      "Base score for clustered classification: 0.562\n",
      "Running the model on clustered classification:\n",
      "Selected 10 features out of 50: [ 0  1  2  3  4  6  7 17 33 47]\n",
      "Results for model DISR(10): execution time = 5.31564 s, resulting measure = 0.664\n"
     ]
    }
   ],
   "source": [
    "from ITMO_FS.filters.multivariate import DISRWithMassive\n",
    "f = DISRWithMassive(10)\n",
    "run_model(f, True, 'DISR(10)', ['tall', 'clustered'])"
   ]
  },
  {
   "cell_type": "code",
   "execution_count": 8,
   "metadata": {},
   "outputs": [
    {
     "name": "stdout",
     "output_type": "stream",
     "text": [
      "Base score for wide classification: 0.132\n",
      "Running the model on wide classification:\n",
      "Selected 10 features out of 2000: [ 850 1214 1360 1728  497  133 1470 1451 1829   24]\n",
      "Results for model MCFS(10): execution time = 0.24492 s, resulting measure = 0.272\n",
      "Base score for mid classification: 0.299\n",
      "Running the model on mid classification:\n",
      "Selected 10 features out of 800: [560 473  46 788 735 348 652 323 363 168]\n",
      "Results for model MCFS(10): execution time = 9.49774 s, resulting measure = 0.219\n",
      "Base score for tall classification: 0.521\n",
      "Running the model on tall classification:\n",
      "Selected 10 features out of 100: [ 5  8  7 14  3  2 76 31 78 72]\n",
      "Results for model MCFS(10): execution time = 33.95299 s, resulting measure = 0.473\n",
      "Base score for clustered classification: 0.562\n",
      "Running the model on clustered classification:\n",
      "Selected 10 features out of 50: [ 4  2 36 41  6 18 30 42  5 38]\n",
      "Results for model MCFS(10): execution time = 2.04349 s, resulting measure = 0.359\n"
     ]
    }
   ],
   "source": [
    "from ITMO_FS.filters.unsupervised import MCFS\n",
    "f = MCFS(10, k=5, p=11)\n",
    "run_model(f, True, 'MCFS(10)')"
   ]
  },
  {
   "cell_type": "markdown",
   "metadata": {},
   "source": [
    "## Алгоритмы-обертки\n",
    "![title](img/wrappers.jpg)"
   ]
  },
  {
   "cell_type": "code",
   "execution_count": 9,
   "metadata": {},
   "outputs": [
    {
     "name": "stdout",
     "output_type": "stream",
     "text": [
      "Base score for tall classification: 0.532\n",
      "Running the model on tall classification:\n",
      "Selected 10 features out of 100: [ 5  1  2  7  8  3  6  4 54 10]\n",
      "Results for model SFS(10): execution time = 44.15818 s, resulting measure = 0.571\n",
      "Base score for clustered classification: 0.589\n",
      "Running the model on clustered classification:\n",
      "Selected 10 features out of 50: [ 6  7  0  2  1 31 14  4  3 11]\n",
      "Results for model SFS(10): execution time = 11.64748 s, resulting measure = 0.691\n"
     ]
    }
   ],
   "source": [
    "from ITMO_FS.wrappers.deterministic import SequentialForwardSelection\n",
    "wrapper = SequentialForwardSelection(LogisticRegression(), 10, 'f1_macro')\n",
    "run_model(wrapper, False, 'SFS(10)', ['tall', 'clustered'])"
   ]
  },
  {
   "cell_type": "code",
   "execution_count": 10,
   "metadata": {},
   "outputs": [
    {
     "name": "stdout",
     "output_type": "stream",
     "text": [
      "Base score for tall classification: 0.532\n",
      "Running the model on tall classification:\n",
      "Selected 15 features out of 100: [ 5  1  2  7  8  3  6  4 54 10 13 62 14 61 46]\n",
      "Results for model AddDel: execution time = 109.67129 s, resulting measure = 0.568\n",
      "Base score for clustered classification: 0.589\n",
      "Running the model on clustered classification:\n",
      "Selected 6 features out of 50: [ 6  7  0  2  1 31]\n",
      "Results for model AddDel: execution time = 12.86947 s, resulting measure = 0.649\n"
     ]
    }
   ],
   "source": [
    "from ITMO_FS.wrappers.deterministic import AddDelWrapper\n",
    "wrapper = AddDelWrapper(LogisticRegression(), 'f1_macro')\n",
    "run_model(wrapper, False, 'AddDel', ['tall', 'clustered'])"
   ]
  },
  {
   "cell_type": "code",
   "execution_count": 11,
   "metadata": {},
   "outputs": [
    {
     "name": "stdout",
     "output_type": "stream",
     "text": [
      "Base score for tall classification: 0.532\n",
      "Running the model on tall classification:\n",
      "Selected 47 features out of 100: [ 0  1  2  3  4  5  6  7  8  9 17 20 22 24 26 30 31 32 34 35 38 39 40 41\n",
      " 43 44 49 52 55 58 62 64 68 71 72 73 74 75 76 77 78 83 86 87 93 94 96]\n",
      "Results for model HillClimbing: execution time = 41.47179 s, resulting measure = 0.573\n",
      "Base score for clustered classification: 0.589\n",
      "Running the model on clustered classification:\n",
      "Selected 20 features out of 50: [ 0  1  2  3  4  6  7  8 14 22 24 29 30 31 33 35 37 39 42 43]\n",
      "Results for model HillClimbing: execution time = 16.19479 s, resulting measure = 0.674\n"
     ]
    }
   ],
   "source": [
    "from ITMO_FS.wrappers.randomized import HillClimbingWrapper\n",
    "wrapper = HillClimbingWrapper(LogisticRegression(), measure='f1_macro', seed=42)\n",
    "run_model(wrapper, False, 'HillClimbing', ['tall', 'clustered'])"
   ]
  },
  {
   "cell_type": "markdown",
   "metadata": {},
   "source": [
    "## Эмбеддеды\n",
    "![title](img/embeddeds.jpg)"
   ]
  },
  {
   "cell_type": "code",
   "execution_count": 12,
   "metadata": {},
   "outputs": [
    {
     "name": "stdout",
     "output_type": "stream",
     "text": [
      "Base score for wide classification: 0.280\n",
      "Running the model on wide classification:\n",
      "Selected 808 features out of 2000: [   0    1    2    3    4    5    7    8    9   11   12   13   14   15\n",
      "   16   17   18   19   20   21   22   23   24   25   26   27   28   29\n",
      "   30   31   32   33   34   35   36   37   38   39   40   41   42   43\n",
      "   44   45   46   47   48   49   52   55   56   57   61   68   76   77\n",
      "   81   82   83   84   87   90   91   92   94   95   96  108  109  110\n",
      "  117  119  122  124  125  128  129  138  141  146  147  149  151  153\n",
      "  154  160  161  163  165  171  173  174  176  182  185  190  191  192\n",
      "  196  198  204  205  206  208  212  214  216  220  221  226  227  228\n",
      "  231  232  233  240  241  248  249  251  255  257  258  259  260  262\n",
      "  264  267  270  272  274  275  278  279  280  281  286  287  288  289\n",
      "  295  296  297  298  299  302  303  307  308  309  310  311  316  317\n",
      "  318  322  324  329  330  331  335  336  338  341  344  345  346  348\n",
      "  349  350  355  356  358  360  364  367  375  376  377  378  380  383\n",
      "  384  385  386  387  388  396  397  409  410  412  414  417  419  420\n",
      "  424  425  426  430  431  432  433  434  435  440  442  446  450  451\n",
      "  455  456  462  463  464  469  476  478  483  488  490  493  495  499\n",
      "  500  505  506  507  508  510  511  512  516  518  519  522  523  527\n",
      "  532  533  537  539  542  544  545  548  549  550  553  554  555  556\n",
      "  559  561  562  564  565  568  569  570  571  573  575  580  581  582\n",
      "  583  584  585  589  591  601  603  604  607  610  613  614  617  627\n",
      "  629  632  635  636  637  639  640  641  644  646  649  652  653  654\n",
      "  655  656  658  660  663  664  665  668  669  672  673  684  688  690\n",
      "  693  699  702  703  705  706  709  710  716  717  719  720  723  726\n",
      "  730  732  736  739  740  744  745  746  748  749  754  757  760  765\n",
      "  769  776  779  780  782  783  785  788  789  790  791  795  798  801\n",
      "  802  804  807  808  810  812  814  815  816  819  820  826  828  834\n",
      "  836  837  843  844  845  848  850  851  852  854  855  856  859  860\n",
      "  868  870  871  875  876  885  886  888  889  890  891  892  893  895\n",
      "  896  898  900  902  904  905  910  913  917  920  921  922  923  924\n",
      "  925  926  928  929  931  933  939  940  942  944  945  951  959  965\n",
      "  969  970  971  972  973  975  978  984  986  987  990  992  996 1000\n",
      " 1003 1005 1013 1014 1016 1017 1021 1023 1026 1028 1031 1032 1033 1034\n",
      " 1036 1038 1039 1040 1046 1047 1050 1051 1052 1055 1057 1058 1059 1060\n",
      " 1064 1066 1069 1070 1075 1078 1080 1083 1087 1090 1091 1093 1095 1097\n",
      " 1101 1106 1107 1114 1116 1118 1122 1123 1125 1127 1131 1139 1142 1146\n",
      " 1149 1152 1153 1154 1162 1163 1164 1165 1169 1171 1173 1176 1180 1183\n",
      " 1185 1188 1191 1193 1195 1196 1201 1202 1203 1204 1210 1211 1219 1225\n",
      " 1226 1232 1244 1247 1251 1258 1259 1262 1263 1265 1266 1268 1269 1274\n",
      " 1275 1276 1277 1279 1285 1289 1290 1292 1293 1296 1300 1307 1309 1311\n",
      " 1317 1321 1322 1323 1325 1328 1330 1335 1336 1337 1339 1343 1344 1346\n",
      " 1347 1348 1350 1351 1352 1355 1357 1358 1361 1363 1364 1369 1371 1372\n",
      " 1374 1376 1380 1387 1390 1394 1396 1398 1401 1406 1408 1419 1421 1423\n",
      " 1427 1429 1431 1433 1442 1443 1446 1448 1449 1450 1451 1453 1456 1457\n",
      " 1462 1463 1464 1470 1473 1474 1475 1481 1482 1485 1486 1487 1488 1490\n",
      " 1491 1492 1494 1495 1497 1501 1502 1503 1504 1505 1512 1513 1516 1518\n",
      " 1519 1523 1524 1525 1534 1540 1541 1542 1544 1547 1548 1549 1550 1551\n",
      " 1561 1565 1568 1570 1577 1578 1579 1582 1587 1588 1589 1590 1591 1594\n",
      " 1596 1600 1601 1603 1604 1609 1610 1611 1613 1616 1618 1621 1622 1624\n",
      " 1627 1630 1631 1634 1636 1637 1638 1640 1643 1646 1648 1650 1651 1653\n",
      " 1661 1664 1669 1670 1672 1676 1679 1682 1684 1685 1694 1701 1704 1705\n",
      " 1708 1709 1712 1717 1720 1723 1725 1728 1734 1736 1737 1741 1747 1751\n",
      " 1752 1754 1756 1759 1760 1762 1765 1768 1770 1772 1777 1779 1780 1782\n",
      " 1784 1793 1794 1796 1797 1800 1806 1807 1811 1813 1815 1816 1821 1823\n",
      " 1825 1829 1835 1836 1838 1843 1844 1845 1848 1849 1850 1854 1861 1866\n",
      " 1872 1874 1876 1882 1883 1884 1886 1889 1892 1896 1899 1900 1902 1905\n",
      " 1906 1908 1909 1911 1912 1913 1915 1919 1920 1921 1924 1926 1928 1936\n",
      " 1939 1940 1942 1944 1946 1948 1950 1952 1958 1959 1960 1963 1968 1970\n",
      " 1971 1975 1978 1979 1980 1982 1983 1984 1985 1997]\n",
      "Results for model MOS: execution time = 2.82394 s, resulting measure = 0.478\n",
      "Base score for mid classification: 0.410\n",
      "Running the model on mid classification:\n",
      "Selected 190 features out of 800: [  0   1   2   3   4   5   6   7   8   9  10  11  12  13  14  15  16  17\n",
      "  18  19  20  21  22  23  24  25  26  27  28  29  30  31  32  33  34  35\n",
      "  36  37  38  39  40  41  42  43  44  45  46  47  48  49  53  54  55  56\n",
      "  62  67  69  72  79  85  92  99 111 115 122 125 128 136 144 156 158 160\n",
      " 162 169 178 183 185 194 198 200 207 209 211 222 226 228 229 243 246 253\n",
      " 254 260 261 264 267 281 284 287 293 294 298 300 307 312 313 315 329 336\n",
      " 337 364 369 370 376 385 390 391 398 399 403 408 409 414 419 420 426 427\n",
      " 434 435 436 437 441 442 443 450 456 461 464 468 491 493 498 500 505 510\n",
      " 513 521 527 530 533 542 549 559 566 567 569 576 584 599 606 611 622 627\n",
      " 638 643 658 660 671 685 687 699 704 712 724 727 735 740 741 746 747 750\n",
      " 755 758 759 764 767 769 773 781 793 795]\n",
      "Results for model MOS: execution time = 57.21781 s, resulting measure = 0.498\n",
      "Base score for tall classification: 0.532\n",
      "Running the model on tall classification:\n",
      "Selected 10 features out of 100: [0 1 2 3 4 5 6 7 8 9]\n",
      "Results for model MOS: execution time = 8.09422 s, resulting measure = 0.577\n",
      "Base score for clustered classification: 0.589\n",
      "Running the model on clustered classification:\n",
      "Selected 7 features out of 50: [0 1 2 3 4 6 7]\n",
      "Results for model MOS: execution time = 0.83493 s, resulting measure = 0.676\n"
     ]
    }
   ],
   "source": [
    "from ITMO_FS.embedded import MOS\n",
    "from sklearn.linear_model import SGDClassifier\n",
    "embedded = MOS(model=SGDClassifier(), weight_func=lambda model: np.square(model.coef_).sum(axis=0))\n",
    "run_model(embedded, False, 'MOS')"
   ]
  },
  {
   "cell_type": "markdown",
   "metadata": {},
   "source": [
    "## Гибриды\n",
    "![title](img/hybrids.jpg)"
   ]
  },
  {
   "cell_type": "code",
   "execution_count": 14,
   "metadata": {},
   "outputs": [
    {
     "name": "stdout",
     "output_type": "stream",
     "text": [
      "Base score for wide classification: 0.132\n",
      "Running the model on wide classification:\n",
      "Selected 10 features out of 2000: [1380  335 1626 1559 1669  728 1775  850   38 1618]\n",
      "Results for model FilterWrapper: execution time = 57.44758 s, resulting measure = 0.404\n",
      "Base score for mid classification: 0.299\n",
      "Running the model on mid classification:\n",
      "Selected 10 features out of 800: [  0  30   5  48 416  64  22 231 750 520]\n",
      "Results for model FilterWrapper: execution time = 78.31047 s, resulting measure = 0.353\n"
     ]
    }
   ],
   "source": [
    "from ITMO_FS.filters.univariate import UnivariateFilter\n",
    "from ITMO_FS.filters.univariate.measures import gini_index\n",
    "from ITMO_FS.hybrid import FilterWrapperHybrid\n",
    "hybrid = FilterWrapperHybrid(UnivariateFilter(gini_index, (\"K best\", 100)),\n",
    "                             SequentialForwardSelection(LogisticRegression(), 10, 'f1_macro'))\n",
    "run_model(hybrid, True, 'FilterWrapper', ['wide', 'mid'])"
   ]
  },
  {
   "cell_type": "markdown",
   "metadata": {},
   "source": [
    "## Ансамбли на основе метрик\n",
    "![title](img/measures.jpg)"
   ]
  },
  {
   "cell_type": "code",
   "execution_count": 22,
   "metadata": {},
   "outputs": [
    {
     "name": "stdout",
     "output_type": "stream",
     "text": [
      "Base score for wide classification: 0.132\n",
      "Running the model on wide classification:\n",
      "Selected 10 features out of 2000: [1122  910   20 1372  545 1034  242 1688  233 1626]\n",
      "Results for model WeightBased: execution time = 1.76691 s, resulting measure = 0.236\n",
      "Base score for mid classification: 0.299\n",
      "Running the model on mid classification:\n",
      "Selected 10 features out of 800: [764 567   6 735 722 414  19   9  20 465]\n",
      "Results for model WeightBased: execution time = 0.84735 s, resulting measure = 0.302\n",
      "Base score for tall classification: 0.521\n",
      "Running the model on tall classification:\n",
      "Selected 10 features out of 100: [ 6  3  4  8  5  0 10 72 35 92]\n",
      "Results for model WeightBased: execution time = 0.14191 s, resulting measure = 0.480\n",
      "Base score for clustered classification: 0.562\n",
      "Running the model on clustered classification:\n",
      "Selected 10 features out of 50: [ 3  7  1  4  2  6 41 34 19 17]\n",
      "Results for model WeightBased: execution time = 0.04552 s, resulting measure = 0.615\n"
     ]
    }
   ],
   "source": [
    "from ITMO_FS.ensembles.measure_based import WeightBased\n",
    "filters = [UnivariateFilter('GiniIndex'),\n",
    "           UnivariateFilter('FechnerCorr'),\n",
    "           UnivariateFilter('SpearmanCorr'),\n",
    "           UnivariateFilter('PearsonCorr')]\n",
    "ensemble = WeightBased(filters, (\"K best\", 10))\n",
    "run_model(ensemble, True, 'WeightBased')"
   ]
  },
  {
   "cell_type": "markdown",
   "metadata": {},
   "source": [
    "## Модельные ансамбли\n",
    "![title](img/models.jpg)"
   ]
  },
  {
   "cell_type": "code",
   "execution_count": 15,
   "metadata": {},
   "outputs": [
    {
     "name": "stdout",
     "output_type": "stream",
     "text": [
      "Base score for wide classification: 0.280\n",
      "Running the model on wide classification:\n",
      "Selected 10 features out of 2000: [48 26 35 21 34  4 19 13 29 38]\n",
      "Results for model BestSum: execution time = 1.40794 s, resulting measure = 0.308\n",
      "Base score for mid classification: 0.410\n",
      "Running the model on mid classification:\n",
      "Selected 10 features out of 800: [ 56  85 105  44  42 722   0 601 725 434]\n",
      "Results for model BestSum: execution time = 4.35793 s, resulting measure = 0.293\n",
      "Base score for tall classification: 0.532\n",
      "Running the model on tall classification:\n",
      "Selected 10 features out of 100: [ 5  2  4  8  7  3  1  9 36  6]\n",
      "Results for model BestSum: execution time = 31.37034 s, resulting measure = 0.558\n",
      "Base score for clustered classification: 0.589\n",
      "Running the model on clustered classification:\n",
      "Selected 10 features out of 50: [ 6  4  2  7  1  5  0 25  3 26]\n",
      "Results for model BestSum: execution time = 0.70753 s, resulting measure = 0.670\n"
     ]
    }
   ],
   "source": [
    "from ITMO_FS.ensembles.model_based import BestSum\n",
    "from sklearn.svm import SVC\n",
    "from sklearn.linear_model import LogisticRegression\n",
    "from sklearn.linear_model import RidgeClassifier\n",
    "models = [SVC(kernel='linear'),\n",
    "          LogisticRegression(),\n",
    "          RidgeClassifier()]\n",
    "ensemble = BestSum(models, (\"K best\", 10),\n",
    "                   lambda model: np.square(model.coef_).sum(axis=0),\n",
    "                   cv=10)\n",
    "run_model(ensemble, False, 'BestSum')"
   ]
  },
  {
   "cell_type": "markdown",
   "metadata": {},
   "source": [
    "## Ансамбли на основе рейтингов\n",
    "![title](img/rankings.jpg)"
   ]
  },
  {
   "cell_type": "code",
   "execution_count": 23,
   "metadata": {},
   "outputs": [
    {
     "name": "stdout",
     "output_type": "stream",
     "text": [
      "Base score for wide classification: 0.132\n",
      "Running the model on wide classification:\n",
      "Selected 10 features out of 2000: [1122 1034 1762  158 1779  364  354   20   26 1090]\n",
      "Results for model Mixed: execution time = 2.77093 s, resulting measure = 0.452\n",
      "Base score for mid classification: 0.299\n",
      "Running the model on mid classification:\n",
      "Selected 10 features out of 800: [  0   9  30   1 764  24  20  18  32 307]\n",
      "Results for model Mixed: execution time = 1.24268 s, resulting measure = 0.329\n",
      "Base score for tall classification: 0.521\n",
      "Running the model on tall classification:\n",
      "Selected 10 features out of 100: [ 5  6  2  7  3  8  4 10 92 83]\n",
      "Results for model Mixed: execution time = 0.19472 s, resulting measure = 0.529\n",
      "Base score for clustered classification: 0.562\n",
      "Running the model on clustered classification:\n",
      "Selected 10 features out of 50: [ 3  6  1  0  2  7  4 33 41 34]\n",
      "Results for model Mixed: execution time = 0.09419 s, resulting measure = 0.647\n"
     ]
    }
   ],
   "source": [
    "from ITMO_FS.ensembles.ranking_based import Mixed\n",
    "ensemble = Mixed([gini_index, spearman_corr, modified_t_score, f_ratio_measure], 10)\n",
    "run_model(ensemble, True, 'Mixed')"
   ]
  },
  {
   "cell_type": "code",
   "execution_count": 16,
   "metadata": {},
   "outputs": [
    {
     "name": "stdout",
     "output_type": "stream",
     "text": [
      "Base score for wide classification: 0.132\n",
      "Running the model on wide classification:\n",
      "Selected 10 features out of 2000: [  52  287  972   19 1325  806   13  913 1617  483]\n",
      "Results for model Melif: execution time = 6.74595 s, resulting measure = 0.304\n",
      "Base score for mid classification: 0.299\n",
      "Running the model on mid classification:\n",
      "Selected 10 features out of 800: [ 30   0  24   1 472 416  19 227  54  42]\n",
      "Results for model Melif: execution time = 9.99534 s, resulting measure = 0.342\n",
      "Base score for tall classification: 0.521\n",
      "Running the model on tall classification:\n",
      "Selected 10 features out of 100: [5 6 4 3 8 7 2 9 0 1]\n",
      "Results for model Melif: execution time = 12.18201 s, resulting measure = 0.573\n",
      "Base score for clustered classification: 0.562\n",
      "Running the model on clustered classification:\n",
      "Selected 10 features out of 50: [ 2  1  6  0  7  4  3 47 33 17]\n",
      "Results for model Melif: execution time = 7.10050 s, resulting measure = 0.664\n"
     ]
    }
   ],
   "source": [
    "from ITMO_FS.hybrid import Melif\n",
    "filters = [UnivariateFilter('GiniIndex'),\n",
    "           UnivariateFilter('FechnerCorr'),\n",
    "           UnivariateFilter('SpearmanCorr'),\n",
    "           UnivariateFilter('PearsonCorr')]\n",
    "hybrid = Melif(LogisticRegression(), 'f1_macro', (\"K best\", 10), filters, delta=1)\n",
    "run_model(hybrid, True, 'Melif')"
   ]
  },
  {
   "cell_type": "code",
   "execution_count": 24,
   "metadata": {},
   "outputs": [
    {
     "data": {
      "image/png": "[encoded data removed]",
      "text/html": [
       "\n",
       "\n",
       "<style>\n",
       "\n",
       "</style>\n",
       "\n",
       "<div id=\"fig_el2324415916327206082369420995\"></div>\n",
       "<script>\n",
       "function mpld3_load_lib(url, callback){\n",
       "  var s = document.createElement('script');\n",
       "  s.src = url;\n",
       "  s.async = true;\n",
       "  s.onreadystatechange = s.onload = callback;\n",
       "  s.onerror = function(){console.warn(\"failed to load library \" + url);};\n",
       "  document.getElementsByTagName(\"head\")[0].appendChild(s);\n",
       "}\n",
       "\n",
       "if(typeof(mpld3) !== \"undefined\" && mpld3._mpld3IsLoaded){\n",
       "   // already loaded: just create the figure\n",
       "   !function(mpld3){\n",
       "       \n",
       "       mpld3.draw_figure(\"fig_el2324415916327206082369420995\", {\"width\": 432.0, \"height\": 288.0, \"axes\": [{\"bbox\": [0.125, 0.125, 0.775, 0.755], \"xlim\": [-0.7391705085003639, 7.845450008499936], \"ylim\": [0.34368907706470697, 0.679471970993191], \"xdomain\": [-0.7391705085003639, 7.845450008499936], \"ydomain\": [0.34368907706470697, 0.679471970993191], \"xscale\": \"linear\", \"yscale\": \"linear\", \"axes\": [{\"position\": \"bottom\", \"nticks\": 10, \"tickvalues\": null, \"tickformat_formatter\": \"\", \"tickformat\": null, \"scale\": \"linear\", \"fontsize\": 10.0, \"grid\": {\"gridOn\": false}, \"visible\": true}, {\"position\": \"left\", \"nticks\": 9, \"tickvalues\": null, \"tickformat_formatter\": \"\", \"tickformat\": null, \"scale\": \"linear\", \"fontsize\": 10.0, \"grid\": {\"gridOn\": false}, \"visible\": true}], \"axesbg\": \"#FFFFFF\", \"axesbgalpha\": null, \"zoomable\": true, \"id\": \"el232441591561778944\", \"lines\": [], \"paths\": [], \"markers\": [], \"texts\": [{\"text\": \"Time\", \"position\": [0.49999999999999994, -0.09657836644591611], \"coordinates\": \"axes\", \"h_anchor\": \"middle\", \"v_baseline\": \"hanging\", \"rotation\": -0.0, \"fontsize\": 10.0, \"color\": \"#000000\", \"alpha\": 1, \"zorder\": 3, \"id\": \"el232441591561778752\"}, {\"text\": \"Score\", \"position\": [-0.09968637992831542, 0.49999999999999994], \"coordinates\": \"axes\", \"h_anchor\": \"middle\", \"v_baseline\": \"auto\", \"rotation\": -90.0, \"fontsize\": 10.0, \"color\": \"#000000\", \"alpha\": 1, \"zorder\": 3, \"id\": \"el232441591632653808\"}], \"collections\": [{\"offsets\": \"data01\", \"xindex\": 0, \"yindex\": 1, \"paths\": [[[[0.0, -0.5], [0.13260155, -0.5], [0.25978993539242673, -0.44731684579412084], [0.3535533905932738, -0.3535533905932738], [0.44731684579412084, -0.25978993539242673], [0.5, -0.13260155], [0.5, 0.0], [0.5, 0.13260155], [0.44731684579412084, 0.25978993539242673], [0.3535533905932738, 0.3535533905932738], [0.25978993539242673, 0.44731684579412084], [0.13260155, 0.5], [0.0, 0.5], [-0.13260155, 0.5], [-0.25978993539242673, 0.44731684579412084], [-0.3535533905932738, 0.3535533905932738], [-0.44731684579412084, 0.25978993539242673], [-0.5, 0.13260155], [-0.5, 0.0], [-0.5, -0.13260155], [-0.44731684579412084, -0.25978993539242673], [-0.3535533905932738, -0.3535533905932738], [-0.25978993539242673, -0.44731684579412084], [-0.13260155, -0.5], [0.0, -0.5]], [\"M\", \"C\", \"C\", \"C\", \"C\", \"C\", \"C\", \"C\", \"C\", \"Z\"]]], \"pathtransforms\": [[6.0, 0.0, 0.0, 6.0, 0.0, 0.0]], \"alphas\": [null], \"edgecolors\": [\"#440154\", \"#FDE724\", \"#21A784\", \"#31668D\", \"#A7DB33\", \"#FAE622\", \"#1E9A89\", \"#277C8E\"], \"facecolors\": [\"#440154\", \"#FDE724\", \"#21A784\", \"#31668D\", \"#A7DB33\", \"#FAE622\", \"#1E9A89\", \"#277C8E\"], \"edgewidths\": [1.0], \"offsetcoordinates\": \"data\", \"pathcoordinates\": \"display\", \"zorder\": 1, \"id\": \"el232441591561779184\"}, {\"offsets\": \"data02\", \"xindex\": 0, \"yindex\": 1, \"paths\": [[[[-0.3489604850003502, 0.5616816370390203], [7.455239984999922, 0.5616816370390203]], [\"M\", \"L\"]]], \"pathtransforms\": [], \"alphas\": [null], \"edgecolors\": [\"#000000\"], \"facecolors\": [], \"edgewidths\": [1.5], \"offsetcoordinates\": \"display\", \"pathcoordinates\": \"data\", \"zorder\": 2, \"id\": \"el232441591561778848\"}], \"images\": [], \"sharex\": [], \"sharey\": []}], \"data\": {\"data01\": [[2.8933494999999994, 0.6487512464681935], [5.315643200000011, 0.6642091121782601], [2.043489299999976, 0.35895193587963814], [7.100503599999911, 0.6642091121782601], [0.042761199999858945, 0.6642091121782601], [0.005775899999662215, 0.4929800166704864], [0.045518900000388385, 0.614831395100166], [0.09418630000027406, 0.6467409706938042]], \"data02\": [[0.0, 0.0]]}, \"id\": \"el232441591632720608\", \"plugins\": [{\"type\": \"reset\"}, {\"type\": \"zoom\", \"button\": true, \"enabled\": false}, {\"type\": \"boxzoom\", \"button\": true, \"enabled\": false}, {\"type\": \"tooltip\", \"id\": \"el232441591561779184\", \"labels\": [\"Multivariate(JMI, 10)\", \"DISR(10)\", \"MCFS(10)\", \"Melif\", \"Univariate(Gini, 10)\", \"Univariate(Spearman, 10)\", \"WeightBased\", \"Mixed\"], \"hoffset\": 0, \"voffset\": 10, \"location\": \"mouse\"}]});\n",
       "   }(mpld3);\n",
       "}else if(typeof define === \"function\" && define.amd){\n",
       "   // require.js is available: use it to load d3/mpld3\n",
       "   require.config({paths: {d3: \"https://d3js.org/d3.v5\"}});\n",
       "   require([\"d3\"], function(d3){\n",
       "      window.d3 = d3;\n",
       "      mpld3_load_lib(\"https://mpld3.github.io/js/mpld3.v0.5.5.js\", function(){\n",
       "         \n",
       "         mpld3.draw_figure(\"fig_el2324415916327206082369420995\", {\"width\": 432.0, \"height\": 288.0, \"axes\": [{\"bbox\": [0.125, 0.125, 0.775, 0.755], \"xlim\": [-0.7391705085003639, 7.845450008499936], \"ylim\": [0.34368907706470697, 0.679471970993191], \"xdomain\": [-0.7391705085003639, 7.845450008499936], \"ydomain\": [0.34368907706470697, 0.679471970993191], \"xscale\": \"linear\", \"yscale\": \"linear\", \"axes\": [{\"position\": \"bottom\", \"nticks\": 10, \"tickvalues\": null, \"tickformat_formatter\": \"\", \"tickformat\": null, \"scale\": \"linear\", \"fontsize\": 10.0, \"grid\": {\"gridOn\": false}, \"visible\": true}, {\"position\": \"left\", \"nticks\": 9, \"tickvalues\": null, \"tickformat_formatter\": \"\", \"tickformat\": null, \"scale\": \"linear\", \"fontsize\": 10.0, \"grid\": {\"gridOn\": false}, \"visible\": true}], \"axesbg\": \"#FFFFFF\", \"axesbgalpha\": null, \"zoomable\": true, \"id\": \"el232441591561778944\", \"lines\": [], \"paths\": [], \"markers\": [], \"texts\": [{\"text\": \"Time\", \"position\": [0.49999999999999994, -0.09657836644591611], \"coordinates\": \"axes\", \"h_anchor\": \"middle\", \"v_baseline\": \"hanging\", \"rotation\": -0.0, \"fontsize\": 10.0, \"color\": \"#000000\", \"alpha\": 1, \"zorder\": 3, \"id\": \"el232441591561778752\"}, {\"text\": \"Score\", \"position\": [-0.09968637992831542, 0.49999999999999994], \"coordinates\": \"axes\", \"h_anchor\": \"middle\", \"v_baseline\": \"auto\", \"rotation\": -90.0, \"fontsize\": 10.0, \"color\": \"#000000\", \"alpha\": 1, \"zorder\": 3, \"id\": \"el232441591632653808\"}], \"collections\": [{\"offsets\": \"data01\", \"xindex\": 0, \"yindex\": 1, \"paths\": [[[[0.0, -0.5], [0.13260155, -0.5], [0.25978993539242673, -0.44731684579412084], [0.3535533905932738, -0.3535533905932738], [0.44731684579412084, -0.25978993539242673], [0.5, -0.13260155], [0.5, 0.0], [0.5, 0.13260155], [0.44731684579412084, 0.25978993539242673], [0.3535533905932738, 0.3535533905932738], [0.25978993539242673, 0.44731684579412084], [0.13260155, 0.5], [0.0, 0.5], [-0.13260155, 0.5], [-0.25978993539242673, 0.44731684579412084], [-0.3535533905932738, 0.3535533905932738], [-0.44731684579412084, 0.25978993539242673], [-0.5, 0.13260155], [-0.5, 0.0], [-0.5, -0.13260155], [-0.44731684579412084, -0.25978993539242673], [-0.3535533905932738, -0.3535533905932738], [-0.25978993539242673, -0.44731684579412084], [-0.13260155, -0.5], [0.0, -0.5]], [\"M\", \"C\", \"C\", \"C\", \"C\", \"C\", \"C\", \"C\", \"C\", \"Z\"]]], \"pathtransforms\": [[6.0, 0.0, 0.0, 6.0, 0.0, 0.0]], \"alphas\": [null], \"edgecolors\": [\"#440154\", \"#FDE724\", \"#21A784\", \"#31668D\", \"#A7DB33\", \"#FAE622\", \"#1E9A89\", \"#277C8E\"], \"facecolors\": [\"#440154\", \"#FDE724\", \"#21A784\", \"#31668D\", \"#A7DB33\", \"#FAE622\", \"#1E9A89\", \"#277C8E\"], \"edgewidths\": [1.0], \"offsetcoordinates\": \"data\", \"pathcoordinates\": \"display\", \"zorder\": 1, \"id\": \"el232441591561779184\"}, {\"offsets\": \"data02\", \"xindex\": 0, \"yindex\": 1, \"paths\": [[[[-0.3489604850003502, 0.5616816370390203], [7.455239984999922, 0.5616816370390203]], [\"M\", \"L\"]]], \"pathtransforms\": [], \"alphas\": [null], \"edgecolors\": [\"#000000\"], \"facecolors\": [], \"edgewidths\": [1.5], \"offsetcoordinates\": \"display\", \"pathcoordinates\": \"data\", \"zorder\": 2, \"id\": \"el232441591561778848\"}], \"images\": [], \"sharex\": [], \"sharey\": []}], \"data\": {\"data01\": [[2.8933494999999994, 0.6487512464681935], [5.315643200000011, 0.6642091121782601], [2.043489299999976, 0.35895193587963814], [7.100503599999911, 0.6642091121782601], [0.042761199999858945, 0.6642091121782601], [0.005775899999662215, 0.4929800166704864], [0.045518900000388385, 0.614831395100166], [0.09418630000027406, 0.6467409706938042]], \"data02\": [[0.0, 0.0]]}, \"id\": \"el232441591632720608\", \"plugins\": [{\"type\": \"reset\"}, {\"type\": \"zoom\", \"button\": true, \"enabled\": false}, {\"type\": \"boxzoom\", \"button\": true, \"enabled\": false}, {\"type\": \"tooltip\", \"id\": \"el232441591561779184\", \"labels\": [\"Multivariate(JMI, 10)\", \"DISR(10)\", \"MCFS(10)\", \"Melif\", \"Univariate(Gini, 10)\", \"Univariate(Spearman, 10)\", \"WeightBased\", \"Mixed\"], \"hoffset\": 0, \"voffset\": 10, \"location\": \"mouse\"}]});\n",
       "      });\n",
       "    });\n",
       "}else{\n",
       "    // require.js not available: dynamically load d3 & mpld3\n",
       "    mpld3_load_lib(\"https://d3js.org/d3.v5.js\", function(){\n",
       "         mpld3_load_lib(\"https://mpld3.github.io/js/mpld3.v0.5.5.js\", function(){\n",
       "                 \n",
       "                 mpld3.draw_figure(\"fig_el2324415916327206082369420995\", {\"width\": 432.0, \"height\": 288.0, \"axes\": [{\"bbox\": [0.125, 0.125, 0.775, 0.755], \"xlim\": [-0.7391705085003639, 7.845450008499936], \"ylim\": [0.34368907706470697, 0.679471970993191], \"xdomain\": [-0.7391705085003639, 7.845450008499936], \"ydomain\": [0.34368907706470697, 0.679471970993191], \"xscale\": \"linear\", \"yscale\": \"linear\", \"axes\": [{\"position\": \"bottom\", \"nticks\": 10, \"tickvalues\": null, \"tickformat_formatter\": \"\", \"tickformat\": null, \"scale\": \"linear\", \"fontsize\": 10.0, \"grid\": {\"gridOn\": false}, \"visible\": true}, {\"position\": \"left\", \"nticks\": 9, \"tickvalues\": null, \"tickformat_formatter\": \"\", \"tickformat\": null, \"scale\": \"linear\", \"fontsize\": 10.0, \"grid\": {\"gridOn\": false}, \"visible\": true}], \"axesbg\": \"#FFFFFF\", \"axesbgalpha\": null, \"zoomable\": true, \"id\": \"el232441591561778944\", \"lines\": [], \"paths\": [], \"markers\": [], \"texts\": [{\"text\": \"Time\", \"position\": [0.49999999999999994, -0.09657836644591611], \"coordinates\": \"axes\", \"h_anchor\": \"middle\", \"v_baseline\": \"hanging\", \"rotation\": -0.0, \"fontsize\": 10.0, \"color\": \"#000000\", \"alpha\": 1, \"zorder\": 3, \"id\": \"el232441591561778752\"}, {\"text\": \"Score\", \"position\": [-0.09968637992831542, 0.49999999999999994], \"coordinates\": \"axes\", \"h_anchor\": \"middle\", \"v_baseline\": \"auto\", \"rotation\": -90.0, \"fontsize\": 10.0, \"color\": \"#000000\", \"alpha\": 1, \"zorder\": 3, \"id\": \"el232441591632653808\"}], \"collections\": [{\"offsets\": \"data01\", \"xindex\": 0, \"yindex\": 1, \"paths\": [[[[0.0, -0.5], [0.13260155, -0.5], [0.25978993539242673, -0.44731684579412084], [0.3535533905932738, -0.3535533905932738], [0.44731684579412084, -0.25978993539242673], [0.5, -0.13260155], [0.5, 0.0], [0.5, 0.13260155], [0.44731684579412084, 0.25978993539242673], [0.3535533905932738, 0.3535533905932738], [0.25978993539242673, 0.44731684579412084], [0.13260155, 0.5], [0.0, 0.5], [-0.13260155, 0.5], [-0.25978993539242673, 0.44731684579412084], [-0.3535533905932738, 0.3535533905932738], [-0.44731684579412084, 0.25978993539242673], [-0.5, 0.13260155], [-0.5, 0.0], [-0.5, -0.13260155], [-0.44731684579412084, -0.25978993539242673], [-0.3535533905932738, -0.3535533905932738], [-0.25978993539242673, -0.44731684579412084], [-0.13260155, -0.5], [0.0, -0.5]], [\"M\", \"C\", \"C\", \"C\", \"C\", \"C\", \"C\", \"C\", \"C\", \"Z\"]]], \"pathtransforms\": [[6.0, 0.0, 0.0, 6.0, 0.0, 0.0]], \"alphas\": [null], \"edgecolors\": [\"#440154\", \"#FDE724\", \"#21A784\", \"#31668D\", \"#A7DB33\", \"#FAE622\", \"#1E9A89\", \"#277C8E\"], \"facecolors\": [\"#440154\", \"#FDE724\", \"#21A784\", \"#31668D\", \"#A7DB33\", \"#FAE622\", \"#1E9A89\", \"#277C8E\"], \"edgewidths\": [1.0], \"offsetcoordinates\": \"data\", \"pathcoordinates\": \"display\", \"zorder\": 1, \"id\": \"el232441591561779184\"}, {\"offsets\": \"data02\", \"xindex\": 0, \"yindex\": 1, \"paths\": [[[[-0.3489604850003502, 0.5616816370390203], [7.455239984999922, 0.5616816370390203]], [\"M\", \"L\"]]], \"pathtransforms\": [], \"alphas\": [null], \"edgecolors\": [\"#000000\"], \"facecolors\": [], \"edgewidths\": [1.5], \"offsetcoordinates\": \"display\", \"pathcoordinates\": \"data\", \"zorder\": 2, \"id\": \"el232441591561778848\"}], \"images\": [], \"sharex\": [], \"sharey\": []}], \"data\": {\"data01\": [[2.8933494999999994, 0.6487512464681935], [5.315643200000011, 0.6642091121782601], [2.043489299999976, 0.35895193587963814], [7.100503599999911, 0.6642091121782601], [0.042761199999858945, 0.6642091121782601], [0.005775899999662215, 0.4929800166704864], [0.045518900000388385, 0.614831395100166], [0.09418630000027406, 0.6467409706938042]], \"data02\": [[0.0, 0.0]]}, \"id\": \"el232441591632720608\", \"plugins\": [{\"type\": \"reset\"}, {\"type\": \"zoom\", \"button\": true, \"enabled\": false}, {\"type\": \"boxzoom\", \"button\": true, \"enabled\": false}, {\"type\": \"tooltip\", \"id\": \"el232441591561779184\", \"labels\": [\"Multivariate(JMI, 10)\", \"DISR(10)\", \"MCFS(10)\", \"Melif\", \"Univariate(Gini, 10)\", \"Univariate(Spearman, 10)\", \"WeightBased\", \"Mixed\"], \"hoffset\": 0, \"voffset\": 10, \"location\": \"mouse\"}]});\n",
       "            })\n",
       "         });\n",
       "}\n",
       "</script>"
      ],
      "text/plain": [
       "<Figure size 432x288 with 1 Axes>"
      ]
     },
     "metadata": {
      "needs_background": "light"
     },
     "output_type": "display_data"
    }
   ],
   "source": [
    "plot_results('clustered', True)"
   ]
  },
  {
   "cell_type": "code",
   "execution_count": 25,
   "metadata": {},
   "outputs": [
    {
     "data": {
      "image/png": "[encoded data removed]",
      "text/html": [
       "\n",
       "\n",
       "<style>\n",
       "\n",
       "</style>\n",
       "\n",
       "<div id=\"fig_el2324415915596244489031695175\"></div>\n",
       "<script>\n",
       "function mpld3_load_lib(url, callback){\n",
       "  var s = document.createElement('script');\n",
       "  s.src = url;\n",
       "  s.async = true;\n",
       "  s.onreadystatechange = s.onload = callback;\n",
       "  s.onerror = function(){console.warn(\"failed to load library \" + url);};\n",
       "  document.getElementsByTagName(\"head\")[0].appendChild(s);\n",
       "}\n",
       "\n",
       "if(typeof(mpld3) !== \"undefined\" && mpld3._mpld3IsLoaded){\n",
       "   // already loaded: just create the figure\n",
       "   !function(mpld3){\n",
       "       \n",
       "       mpld3.draw_figure(\"fig_el2324415915596244489031695175\", {\"width\": 432.0, \"height\": 288.0, \"axes\": [{\"bbox\": [0.125, 0.125, 0.775, 0.755], \"xlim\": [-1.6873970809996663, 17.89399928099991], \"ylim\": [0.5270912165134785, 0.6988728432029974], \"xdomain\": [-1.6873970809996663, 17.89399928099991], \"ydomain\": [0.5270912165134785, 0.6988728432029974], \"xscale\": \"linear\", \"yscale\": \"linear\", \"axes\": [{\"position\": \"bottom\", \"nticks\": 10, \"tickvalues\": null, \"tickformat_formatter\": \"\", \"tickformat\": null, \"scale\": \"linear\", \"fontsize\": 10.0, \"grid\": {\"gridOn\": false}, \"visible\": true}, {\"position\": \"left\", \"nticks\": 10, \"tickvalues\": null, \"tickformat_formatter\": \"\", \"tickformat\": null, \"scale\": \"linear\", \"fontsize\": 10.0, \"grid\": {\"gridOn\": false}, \"visible\": true}], \"axesbg\": \"#FFFFFF\", \"axesbgalpha\": null, \"zoomable\": true, \"id\": \"el232441591559709552\", \"lines\": [], \"paths\": [], \"markers\": [], \"texts\": [{\"text\": \"Time\", \"position\": [0.49999999999999994, -0.09657836644591611], \"coordinates\": \"axes\", \"h_anchor\": \"middle\", \"v_baseline\": \"hanging\", \"rotation\": -0.0, \"fontsize\": 10.0, \"color\": \"#000000\", \"alpha\": 1, \"zorder\": 3, \"id\": \"el232441591560383552\"}, {\"text\": \"Score\", \"position\": [-0.09968637992831542, 0.49999999999999994], \"coordinates\": \"axes\", \"h_anchor\": \"middle\", \"v_baseline\": \"auto\", \"rotation\": -90.0, \"fontsize\": 10.0, \"color\": \"#000000\", \"alpha\": 1, \"zorder\": 3, \"id\": \"el232441591560380816\"}], \"collections\": [{\"offsets\": \"data01\", \"xindex\": 0, \"yindex\": 1, \"paths\": [[[[0.0, -0.5], [0.13260155, -0.5], [0.25978993539242673, -0.44731684579412084], [0.3535533905932738, -0.3535533905932738], [0.44731684579412084, -0.25978993539242673], [0.5, -0.13260155], [0.5, 0.0], [0.5, 0.13260155], [0.44731684579412084, 0.25978993539242673], [0.3535533905932738, 0.3535533905932738], [0.25978993539242673, 0.44731684579412084], [0.13260155, 0.5], [0.0, 0.5], [-0.13260155, 0.5], [-0.25978993539242673, 0.44731684579412084], [-0.3535533905932738, 0.3535533905932738], [-0.44731684579412084, 0.25978993539242673], [-0.5, 0.13260155], [-0.5, 0.0], [-0.5, -0.13260155], [-0.44731684579412084, -0.25978993539242673], [-0.3535533905932738, -0.3535533905932738], [-0.25978993539242673, -0.44731684579412084], [-0.13260155, -0.5], [0.0, -0.5]], [\"M\", \"C\", \"C\", \"C\", \"C\", \"C\", \"C\", \"C\", \"C\", \"Z\"]]], \"pathtransforms\": [[6.0, 0.0, 0.0, 6.0, 0.0, 0.0]], \"alphas\": [null], \"edgecolors\": [\"#2BB17D\", \"#23A982\", \"#37588C\", \"#FDE724\", \"#440154\", \"#2A768E\", \"#443781\", \"#25838D\"], \"facecolors\": [\"#2BB17D\", \"#23A982\", \"#37588C\", \"#FDE724\", \"#440154\", \"#2A768E\", \"#443781\", \"#25838D\"], \"edgewidths\": [1.0], \"offsetcoordinates\": \"data\", \"pathcoordinates\": \"display\", \"zorder\": 1, \"id\": \"el232441591559711568\"}, {\"offsets\": \"data02\", \"xindex\": 0, \"yindex\": 1, \"paths\": [[[[-0.7973336099996855, 0.5892566084160376], [17.00393580999993, 0.5892566084160376]], [\"M\", \"L\"]]], \"pathtransforms\": [], \"alphas\": [null], \"edgecolors\": [\"#000000\"], \"facecolors\": [], \"edgewidths\": [1.5], \"offsetcoordinates\": \"display\", \"pathcoordinates\": \"data\", \"zorder\": 2, \"id\": \"el232441591559712576\"}], \"images\": [], \"sharex\": [], \"sharey\": []}], \"data\": {\"data01\": [[1.0970604000000037, 0.6910569431600391], [11.647478499999977, 0.6910645874443829], [12.869469699999968, 0.6487831821862646], [16.19478719999995, 0.6744472553689811], [0.8349259999999958, 0.6760114201707417], [0.7075311999999485, 0.6697160092292007], [0.011815000000297005, 0.5348994722720931], [0.02293629999985569, 0.6816168341492342]], \"data02\": [[0.0, 0.0]]}, \"id\": \"el232441591559624448\", \"plugins\": [{\"type\": \"reset\"}, {\"type\": \"zoom\", \"button\": true, \"enabled\": false}, {\"type\": \"boxzoom\", \"button\": true, \"enabled\": false}, {\"type\": \"tooltip\", \"id\": \"el232441591559711568\", \"labels\": [\"SPEC(10)\", \"SFS(10)\", \"AddDel\", \"HillClimbing\", \"MOS\", \"BestSum\", \"Univariate(TScore, 10)\", \"Univariate(FRatio, 10)\"], \"hoffset\": 0, \"voffset\": 10, \"location\": \"mouse\"}]});\n",
       "   }(mpld3);\n",
       "}else if(typeof define === \"function\" && define.amd){\n",
       "   // require.js is available: use it to load d3/mpld3\n",
       "   require.config({paths: {d3: \"https://d3js.org/d3.v5\"}});\n",
       "   require([\"d3\"], function(d3){\n",
       "      window.d3 = d3;\n",
       "      mpld3_load_lib(\"https://mpld3.github.io/js/mpld3.v0.5.5.js\", function(){\n",
       "         \n",
       "         mpld3.draw_figure(\"fig_el2324415915596244489031695175\", {\"width\": 432.0, \"height\": 288.0, \"axes\": [{\"bbox\": [0.125, 0.125, 0.775, 0.755], \"xlim\": [-1.6873970809996663, 17.89399928099991], \"ylim\": [0.5270912165134785, 0.6988728432029974], \"xdomain\": [-1.6873970809996663, 17.89399928099991], \"ydomain\": [0.5270912165134785, 0.6988728432029974], \"xscale\": \"linear\", \"yscale\": \"linear\", \"axes\": [{\"position\": \"bottom\", \"nticks\": 10, \"tickvalues\": null, \"tickformat_formatter\": \"\", \"tickformat\": null, \"scale\": \"linear\", \"fontsize\": 10.0, \"grid\": {\"gridOn\": false}, \"visible\": true}, {\"position\": \"left\", \"nticks\": 10, \"tickvalues\": null, \"tickformat_formatter\": \"\", \"tickformat\": null, \"scale\": \"linear\", \"fontsize\": 10.0, \"grid\": {\"gridOn\": false}, \"visible\": true}], \"axesbg\": \"#FFFFFF\", \"axesbgalpha\": null, \"zoomable\": true, \"id\": \"el232441591559709552\", \"lines\": [], \"paths\": [], \"markers\": [], \"texts\": [{\"text\": \"Time\", \"position\": [0.49999999999999994, -0.09657836644591611], \"coordinates\": \"axes\", \"h_anchor\": \"middle\", \"v_baseline\": \"hanging\", \"rotation\": -0.0, \"fontsize\": 10.0, \"color\": \"#000000\", \"alpha\": 1, \"zorder\": 3, \"id\": \"el232441591560383552\"}, {\"text\": \"Score\", \"position\": [-0.09968637992831542, 0.49999999999999994], \"coordinates\": \"axes\", \"h_anchor\": \"middle\", \"v_baseline\": \"auto\", \"rotation\": -90.0, \"fontsize\": 10.0, \"color\": \"#000000\", \"alpha\": 1, \"zorder\": 3, \"id\": \"el232441591560380816\"}], \"collections\": [{\"offsets\": \"data01\", \"xindex\": 0, \"yindex\": 1, \"paths\": [[[[0.0, -0.5], [0.13260155, -0.5], [0.25978993539242673, -0.44731684579412084], [0.3535533905932738, -0.3535533905932738], [0.44731684579412084, -0.25978993539242673], [0.5, -0.13260155], [0.5, 0.0], [0.5, 0.13260155], [0.44731684579412084, 0.25978993539242673], [0.3535533905932738, 0.3535533905932738], [0.25978993539242673, 0.44731684579412084], [0.13260155, 0.5], [0.0, 0.5], [-0.13260155, 0.5], [-0.25978993539242673, 0.44731684579412084], [-0.3535533905932738, 0.3535533905932738], [-0.44731684579412084, 0.25978993539242673], [-0.5, 0.13260155], [-0.5, 0.0], [-0.5, -0.13260155], [-0.44731684579412084, -0.25978993539242673], [-0.3535533905932738, -0.3535533905932738], [-0.25978993539242673, -0.44731684579412084], [-0.13260155, -0.5], [0.0, -0.5]], [\"M\", \"C\", \"C\", \"C\", \"C\", \"C\", \"C\", \"C\", \"C\", \"Z\"]]], \"pathtransforms\": [[6.0, 0.0, 0.0, 6.0, 0.0, 0.0]], \"alphas\": [null], \"edgecolors\": [\"#2BB17D\", \"#23A982\", \"#37588C\", \"#FDE724\", \"#440154\", \"#2A768E\", \"#443781\", \"#25838D\"], \"facecolors\": [\"#2BB17D\", \"#23A982\", \"#37588C\", \"#FDE724\", \"#440154\", \"#2A768E\", \"#443781\", \"#25838D\"], \"edgewidths\": [1.0], \"offsetcoordinates\": \"data\", \"pathcoordinates\": \"display\", \"zorder\": 1, \"id\": \"el232441591559711568\"}, {\"offsets\": \"data02\", \"xindex\": 0, \"yindex\": 1, \"paths\": [[[[-0.7973336099996855, 0.5892566084160376], [17.00393580999993, 0.5892566084160376]], [\"M\", \"L\"]]], \"pathtransforms\": [], \"alphas\": [null], \"edgecolors\": [\"#000000\"], \"facecolors\": [], \"edgewidths\": [1.5], \"offsetcoordinates\": \"display\", \"pathcoordinates\": \"data\", \"zorder\": 2, \"id\": \"el232441591559712576\"}], \"images\": [], \"sharex\": [], \"sharey\": []}], \"data\": {\"data01\": [[1.0970604000000037, 0.6910569431600391], [11.647478499999977, 0.6910645874443829], [12.869469699999968, 0.6487831821862646], [16.19478719999995, 0.6744472553689811], [0.8349259999999958, 0.6760114201707417], [0.7075311999999485, 0.6697160092292007], [0.011815000000297005, 0.5348994722720931], [0.02293629999985569, 0.6816168341492342]], \"data02\": [[0.0, 0.0]]}, \"id\": \"el232441591559624448\", \"plugins\": [{\"type\": \"reset\"}, {\"type\": \"zoom\", \"button\": true, \"enabled\": false}, {\"type\": \"boxzoom\", \"button\": true, \"enabled\": false}, {\"type\": \"tooltip\", \"id\": \"el232441591559711568\", \"labels\": [\"SPEC(10)\", \"SFS(10)\", \"AddDel\", \"HillClimbing\", \"MOS\", \"BestSum\", \"Univariate(TScore, 10)\", \"Univariate(FRatio, 10)\"], \"hoffset\": 0, \"voffset\": 10, \"location\": \"mouse\"}]});\n",
       "      });\n",
       "    });\n",
       "}else{\n",
       "    // require.js not available: dynamically load d3 & mpld3\n",
       "    mpld3_load_lib(\"https://d3js.org/d3.v5.js\", function(){\n",
       "         mpld3_load_lib(\"https://mpld3.github.io/js/mpld3.v0.5.5.js\", function(){\n",
       "                 \n",
       "                 mpld3.draw_figure(\"fig_el2324415915596244489031695175\", {\"width\": 432.0, \"height\": 288.0, \"axes\": [{\"bbox\": [0.125, 0.125, 0.775, 0.755], \"xlim\": [-1.6873970809996663, 17.89399928099991], \"ylim\": [0.5270912165134785, 0.6988728432029974], \"xdomain\": [-1.6873970809996663, 17.89399928099991], \"ydomain\": [0.5270912165134785, 0.6988728432029974], \"xscale\": \"linear\", \"yscale\": \"linear\", \"axes\": [{\"position\": \"bottom\", \"nticks\": 10, \"tickvalues\": null, \"tickformat_formatter\": \"\", \"tickformat\": null, \"scale\": \"linear\", \"fontsize\": 10.0, \"grid\": {\"gridOn\": false}, \"visible\": true}, {\"position\": \"left\", \"nticks\": 10, \"tickvalues\": null, \"tickformat_formatter\": \"\", \"tickformat\": null, \"scale\": \"linear\", \"fontsize\": 10.0, \"grid\": {\"gridOn\": false}, \"visible\": true}], \"axesbg\": \"#FFFFFF\", \"axesbgalpha\": null, \"zoomable\": true, \"id\": \"el232441591559709552\", \"lines\": [], \"paths\": [], \"markers\": [], \"texts\": [{\"text\": \"Time\", \"position\": [0.49999999999999994, -0.09657836644591611], \"coordinates\": \"axes\", \"h_anchor\": \"middle\", \"v_baseline\": \"hanging\", \"rotation\": -0.0, \"fontsize\": 10.0, \"color\": \"#000000\", \"alpha\": 1, \"zorder\": 3, \"id\": \"el232441591560383552\"}, {\"text\": \"Score\", \"position\": [-0.09968637992831542, 0.49999999999999994], \"coordinates\": \"axes\", \"h_anchor\": \"middle\", \"v_baseline\": \"auto\", \"rotation\": -90.0, \"fontsize\": 10.0, \"color\": \"#000000\", \"alpha\": 1, \"zorder\": 3, \"id\": \"el232441591560380816\"}], \"collections\": [{\"offsets\": \"data01\", \"xindex\": 0, \"yindex\": 1, \"paths\": [[[[0.0, -0.5], [0.13260155, -0.5], [0.25978993539242673, -0.44731684579412084], [0.3535533905932738, -0.3535533905932738], [0.44731684579412084, -0.25978993539242673], [0.5, -0.13260155], [0.5, 0.0], [0.5, 0.13260155], [0.44731684579412084, 0.25978993539242673], [0.3535533905932738, 0.3535533905932738], [0.25978993539242673, 0.44731684579412084], [0.13260155, 0.5], [0.0, 0.5], [-0.13260155, 0.5], [-0.25978993539242673, 0.44731684579412084], [-0.3535533905932738, 0.3535533905932738], [-0.44731684579412084, 0.25978993539242673], [-0.5, 0.13260155], [-0.5, 0.0], [-0.5, -0.13260155], [-0.44731684579412084, -0.25978993539242673], [-0.3535533905932738, -0.3535533905932738], [-0.25978993539242673, -0.44731684579412084], [-0.13260155, -0.5], [0.0, -0.5]], [\"M\", \"C\", \"C\", \"C\", \"C\", \"C\", \"C\", \"C\", \"C\", \"Z\"]]], \"pathtransforms\": [[6.0, 0.0, 0.0, 6.0, 0.0, 0.0]], \"alphas\": [null], \"edgecolors\": [\"#2BB17D\", \"#23A982\", \"#37588C\", \"#FDE724\", \"#440154\", \"#2A768E\", \"#443781\", \"#25838D\"], \"facecolors\": [\"#2BB17D\", \"#23A982\", \"#37588C\", \"#FDE724\", \"#440154\", \"#2A768E\", \"#443781\", \"#25838D\"], \"edgewidths\": [1.0], \"offsetcoordinates\": \"data\", \"pathcoordinates\": \"display\", \"zorder\": 1, \"id\": \"el232441591559711568\"}, {\"offsets\": \"data02\", \"xindex\": 0, \"yindex\": 1, \"paths\": [[[[-0.7973336099996855, 0.5892566084160376], [17.00393580999993, 0.5892566084160376]], [\"M\", \"L\"]]], \"pathtransforms\": [], \"alphas\": [null], \"edgecolors\": [\"#000000\"], \"facecolors\": [], \"edgewidths\": [1.5], \"offsetcoordinates\": \"display\", \"pathcoordinates\": \"data\", \"zorder\": 2, \"id\": \"el232441591559712576\"}], \"images\": [], \"sharex\": [], \"sharey\": []}], \"data\": {\"data01\": [[1.0970604000000037, 0.6910569431600391], [11.647478499999977, 0.6910645874443829], [12.869469699999968, 0.6487831821862646], [16.19478719999995, 0.6744472553689811], [0.8349259999999958, 0.6760114201707417], [0.7075311999999485, 0.6697160092292007], [0.011815000000297005, 0.5348994722720931], [0.02293629999985569, 0.6816168341492342]], \"data02\": [[0.0, 0.0]]}, \"id\": \"el232441591559624448\", \"plugins\": [{\"type\": \"reset\"}, {\"type\": \"zoom\", \"button\": true, \"enabled\": false}, {\"type\": \"boxzoom\", \"button\": true, \"enabled\": false}, {\"type\": \"tooltip\", \"id\": \"el232441591559711568\", \"labels\": [\"SPEC(10)\", \"SFS(10)\", \"AddDel\", \"HillClimbing\", \"MOS\", \"BestSum\", \"Univariate(TScore, 10)\", \"Univariate(FRatio, 10)\"], \"hoffset\": 0, \"voffset\": 10, \"location\": \"mouse\"}]});\n",
       "            })\n",
       "         });\n",
       "}\n",
       "</script>"
      ],
      "text/plain": [
       "<Figure size 432x288 with 1 Axes>"
      ]
     },
     "metadata": {
      "needs_background": "light"
     },
     "output_type": "display_data"
    }
   ],
   "source": [
    "plot_results('clustered', False)"
   ]
  },
  {
   "cell_type": "code",
   "execution_count": 26,
   "metadata": {},
   "outputs": [
    {
     "data": {
      "image/png": "[encoded data removed]",
      "text/html": [
       "\n",
       "\n",
       "<style>\n",
       "\n",
       "</style>\n",
       "\n",
       "<div id=\"fig_el2324415915604960329793002755\"></div>\n",
       "<script>\n",
       "function mpld3_load_lib(url, callback){\n",
       "  var s = document.createElement('script');\n",
       "  s.src = url;\n",
       "  s.async = true;\n",
       "  s.onreadystatechange = s.onload = callback;\n",
       "  s.onerror = function(){console.warn(\"failed to load library \" + url);};\n",
       "  document.getElementsByTagName(\"head\")[0].appendChild(s);\n",
       "}\n",
       "\n",
       "if(typeof(mpld3) !== \"undefined\" && mpld3._mpld3IsLoaded){\n",
       "   // already loaded: just create the figure\n",
       "   !function(mpld3){\n",
       "       \n",
       "       mpld3.draw_figure(\"fig_el2324415915604960329793002755\", {\"width\": 432.0, \"height\": 288.0, \"axes\": [{\"bbox\": [0.125, 0.125, 0.775, 0.755], \"xlim\": [-11.487915057000135, 121.18416045699996], \"ylim\": [0.5297754924779003, 0.5791506709816729], \"xdomain\": [-11.487915057000135, 121.18416045699996], \"ydomain\": [0.5297754924779003, 0.5791506709816729], \"xscale\": \"linear\", \"yscale\": \"linear\", \"axes\": [{\"position\": \"bottom\", \"nticks\": 9, \"tickvalues\": null, \"tickformat_formatter\": \"\", \"tickformat\": null, \"scale\": \"linear\", \"fontsize\": 10.0, \"grid\": {\"gridOn\": false}, \"visible\": true}, {\"position\": \"left\", \"nticks\": 7, \"tickvalues\": null, \"tickformat_formatter\": \"\", \"tickformat\": null, \"scale\": \"linear\", \"fontsize\": 10.0, \"grid\": {\"gridOn\": false}, \"visible\": true}], \"axesbg\": \"#FFFFFF\", \"axesbgalpha\": null, \"zoomable\": true, \"id\": \"el232441591845124464\", \"lines\": [], \"paths\": [], \"markers\": [], \"texts\": [{\"text\": \"Time\", \"position\": [0.49999999999999994, -0.09657836644591611], \"coordinates\": \"axes\", \"h_anchor\": \"middle\", \"v_baseline\": \"hanging\", \"rotation\": -0.0, \"fontsize\": 10.0, \"color\": \"#000000\", \"alpha\": 1, \"zorder\": 3, \"id\": \"el232441591650298800\"}, {\"text\": \"Score\", \"position\": [-0.09968637992831542, 0.49999999999999994], \"coordinates\": \"axes\", \"h_anchor\": \"middle\", \"v_baseline\": \"auto\", \"rotation\": -90.0, \"fontsize\": 10.0, \"color\": \"#000000\", \"alpha\": 1, \"zorder\": 3, \"id\": \"el232441591650296160\"}], \"collections\": [{\"offsets\": \"data01\", \"xindex\": 0, \"yindex\": 1, \"paths\": [[[[0.0, -0.5], [0.13260155, -0.5], [0.25978993539242673, -0.44731684579412084], [0.3535533905932738, -0.3535533905932738], [0.44731684579412084, -0.25978993539242673], [0.5, -0.13260155], [0.5, 0.0], [0.5, 0.13260155], [0.44731684579412084, 0.25978993539242673], [0.3535533905932738, 0.3535533905932738], [0.25978993539242673, 0.44731684579412084], [0.13260155, 0.5], [0.0, 0.5], [-0.13260155, 0.5], [-0.25978993539242673, 0.44731684579412084], [-0.3535533905932738, 0.3535533905932738], [-0.44731684579412084, 0.25978993539242673], [-0.5, 0.13260155], [-0.5, 0.0], [-0.5, -0.13260155], [-0.44731684579412084, -0.25978993539242673], [-0.3535533905932738, -0.3535533905932738], [-0.25978993539242673, -0.44731684579412084], [-0.13260155, -0.5], [0.0, -0.5]], [\"M\", \"C\", \"C\", \"C\", \"C\", \"C\", \"C\", \"C\", \"C\", \"Z\"]]], \"pathtransforms\": [[6.0, 0.0, 0.0, 6.0, 0.0, 0.0]], \"alphas\": [null], \"edgecolors\": [\"#482172\", \"#228A8D\", \"#45BF6F\", \"#414186\", \"#433C84\", \"#440154\", \"#57C665\", \"#FDE724\"], \"facecolors\": [\"#482172\", \"#228A8D\", \"#45BF6F\", \"#414186\", \"#433C84\", \"#440154\", \"#57C665\", \"#FDE724\"], \"edgewidths\": [1.0], \"offsetcoordinates\": \"data\", \"pathcoordinates\": \"display\", \"zorder\": 1, \"id\": \"el232441591560349344\"}, {\"offsets\": \"data02\", \"xindex\": 0, \"yindex\": 1, \"paths\": [[[[-5.457366170000131, 0.5320198187735263], [115.15361156999995, 0.5320198187735263]], [\"M\", \"L\"]]], \"pathtransforms\": [], \"alphas\": [null], \"edgecolors\": [\"#000000\"], \"facecolors\": [], \"edgewidths\": [1.5], \"offsetcoordinates\": \"display\", \"pathcoordinates\": \"data\", \"zorder\": 2, \"id\": \"el232441591845126048\"}], \"images\": [], \"sharex\": [], \"sharey\": []}], \"data\": {\"data01\": [[15.761741, 0.5769063446860471], [44.15818150000001, 0.570678743790779], [109.67129439999997, 0.5683478085834808], [41.47178859999997, 0.5732492000683405], [8.094218399999932, 0.5769063446860471], [31.370337600000084, 0.5579461514114318], [0.024950999999873602, 0.5480422659587234], [0.04257939999979499, 0.5769063446860471]], \"data02\": [[0.0, 0.0]]}, \"id\": \"el232441591560496032\", \"plugins\": [{\"type\": \"reset\"}, {\"type\": \"zoom\", \"button\": true, \"enabled\": false}, {\"type\": \"boxzoom\", \"button\": true, \"enabled\": false}, {\"type\": \"tooltip\", \"id\": \"el232441591560349344\", \"labels\": [\"SPEC(10)\", \"SFS(10)\", \"AddDel\", \"HillClimbing\", \"MOS\", \"BestSum\", \"Univariate(TScore, 10)\", \"Univariate(FRatio, 10)\"], \"hoffset\": 0, \"voffset\": 10, \"location\": \"mouse\"}]});\n",
       "   }(mpld3);\n",
       "}else if(typeof define === \"function\" && define.amd){\n",
       "   // require.js is available: use it to load d3/mpld3\n",
       "   require.config({paths: {d3: \"https://d3js.org/d3.v5\"}});\n",
       "   require([\"d3\"], function(d3){\n",
       "      window.d3 = d3;\n",
       "      mpld3_load_lib(\"https://mpld3.github.io/js/mpld3.v0.5.5.js\", function(){\n",
       "         \n",
       "         mpld3.draw_figure(\"fig_el2324415915604960329793002755\", {\"width\": 432.0, \"height\": 288.0, \"axes\": [{\"bbox\": [0.125, 0.125, 0.775, 0.755], \"xlim\": [-11.487915057000135, 121.18416045699996], \"ylim\": [0.5297754924779003, 0.5791506709816729], \"xdomain\": [-11.487915057000135, 121.18416045699996], \"ydomain\": [0.5297754924779003, 0.5791506709816729], \"xscale\": \"linear\", \"yscale\": \"linear\", \"axes\": [{\"position\": \"bottom\", \"nticks\": 9, \"tickvalues\": null, \"tickformat_formatter\": \"\", \"tickformat\": null, \"scale\": \"linear\", \"fontsize\": 10.0, \"grid\": {\"gridOn\": false}, \"visible\": true}, {\"position\": \"left\", \"nticks\": 7, \"tickvalues\": null, \"tickformat_formatter\": \"\", \"tickformat\": null, \"scale\": \"linear\", \"fontsize\": 10.0, \"grid\": {\"gridOn\": false}, \"visible\": true}], \"axesbg\": \"#FFFFFF\", \"axesbgalpha\": null, \"zoomable\": true, \"id\": \"el232441591845124464\", \"lines\": [], \"paths\": [], \"markers\": [], \"texts\": [{\"text\": \"Time\", \"position\": [0.49999999999999994, -0.09657836644591611], \"coordinates\": \"axes\", \"h_anchor\": \"middle\", \"v_baseline\": \"hanging\", \"rotation\": -0.0, \"fontsize\": 10.0, \"color\": \"#000000\", \"alpha\": 1, \"zorder\": 3, \"id\": \"el232441591650298800\"}, {\"text\": \"Score\", \"position\": [-0.09968637992831542, 0.49999999999999994], \"coordinates\": \"axes\", \"h_anchor\": \"middle\", \"v_baseline\": \"auto\", \"rotation\": -90.0, \"fontsize\": 10.0, \"color\": \"#000000\", \"alpha\": 1, \"zorder\": 3, \"id\": \"el232441591650296160\"}], \"collections\": [{\"offsets\": \"data01\", \"xindex\": 0, \"yindex\": 1, \"paths\": [[[[0.0, -0.5], [0.13260155, -0.5], [0.25978993539242673, -0.44731684579412084], [0.3535533905932738, -0.3535533905932738], [0.44731684579412084, -0.25978993539242673], [0.5, -0.13260155], [0.5, 0.0], [0.5, 0.13260155], [0.44731684579412084, 0.25978993539242673], [0.3535533905932738, 0.3535533905932738], [0.25978993539242673, 0.44731684579412084], [0.13260155, 0.5], [0.0, 0.5], [-0.13260155, 0.5], [-0.25978993539242673, 0.44731684579412084], [-0.3535533905932738, 0.3535533905932738], [-0.44731684579412084, 0.25978993539242673], [-0.5, 0.13260155], [-0.5, 0.0], [-0.5, -0.13260155], [-0.44731684579412084, -0.25978993539242673], [-0.3535533905932738, -0.3535533905932738], [-0.25978993539242673, -0.44731684579412084], [-0.13260155, -0.5], [0.0, -0.5]], [\"M\", \"C\", \"C\", \"C\", \"C\", \"C\", \"C\", \"C\", \"C\", \"Z\"]]], \"pathtransforms\": [[6.0, 0.0, 0.0, 6.0, 0.0, 0.0]], \"alphas\": [null], \"edgecolors\": [\"#482172\", \"#228A8D\", \"#45BF6F\", \"#414186\", \"#433C84\", \"#440154\", \"#57C665\", \"#FDE724\"], \"facecolors\": [\"#482172\", \"#228A8D\", \"#45BF6F\", \"#414186\", \"#433C84\", \"#440154\", \"#57C665\", \"#FDE724\"], \"edgewidths\": [1.0], \"offsetcoordinates\": \"data\", \"pathcoordinates\": \"display\", \"zorder\": 1, \"id\": \"el232441591560349344\"}, {\"offsets\": \"data02\", \"xindex\": 0, \"yindex\": 1, \"paths\": [[[[-5.457366170000131, 0.5320198187735263], [115.15361156999995, 0.5320198187735263]], [\"M\", \"L\"]]], \"pathtransforms\": [], \"alphas\": [null], \"edgecolors\": [\"#000000\"], \"facecolors\": [], \"edgewidths\": [1.5], \"offsetcoordinates\": \"display\", \"pathcoordinates\": \"data\", \"zorder\": 2, \"id\": \"el232441591845126048\"}], \"images\": [], \"sharex\": [], \"sharey\": []}], \"data\": {\"data01\": [[15.761741, 0.5769063446860471], [44.15818150000001, 0.570678743790779], [109.67129439999997, 0.5683478085834808], [41.47178859999997, 0.5732492000683405], [8.094218399999932, 0.5769063446860471], [31.370337600000084, 0.5579461514114318], [0.024950999999873602, 0.5480422659587234], [0.04257939999979499, 0.5769063446860471]], \"data02\": [[0.0, 0.0]]}, \"id\": \"el232441591560496032\", \"plugins\": [{\"type\": \"reset\"}, {\"type\": \"zoom\", \"button\": true, \"enabled\": false}, {\"type\": \"boxzoom\", \"button\": true, \"enabled\": false}, {\"type\": \"tooltip\", \"id\": \"el232441591560349344\", \"labels\": [\"SPEC(10)\", \"SFS(10)\", \"AddDel\", \"HillClimbing\", \"MOS\", \"BestSum\", \"Univariate(TScore, 10)\", \"Univariate(FRatio, 10)\"], \"hoffset\": 0, \"voffset\": 10, \"location\": \"mouse\"}]});\n",
       "      });\n",
       "    });\n",
       "}else{\n",
       "    // require.js not available: dynamically load d3 & mpld3\n",
       "    mpld3_load_lib(\"https://d3js.org/d3.v5.js\", function(){\n",
       "         mpld3_load_lib(\"https://mpld3.github.io/js/mpld3.v0.5.5.js\", function(){\n",
       "                 \n",
       "                 mpld3.draw_figure(\"fig_el2324415915604960329793002755\", {\"width\": 432.0, \"height\": 288.0, \"axes\": [{\"bbox\": [0.125, 0.125, 0.775, 0.755], \"xlim\": [-11.487915057000135, 121.18416045699996], \"ylim\": [0.5297754924779003, 0.5791506709816729], \"xdomain\": [-11.487915057000135, 121.18416045699996], \"ydomain\": [0.5297754924779003, 0.5791506709816729], \"xscale\": \"linear\", \"yscale\": \"linear\", \"axes\": [{\"position\": \"bottom\", \"nticks\": 9, \"tickvalues\": null, \"tickformat_formatter\": \"\", \"tickformat\": null, \"scale\": \"linear\", \"fontsize\": 10.0, \"grid\": {\"gridOn\": false}, \"visible\": true}, {\"position\": \"left\", \"nticks\": 7, \"tickvalues\": null, \"tickformat_formatter\": \"\", \"tickformat\": null, \"scale\": \"linear\", \"fontsize\": 10.0, \"grid\": {\"gridOn\": false}, \"visible\": true}], \"axesbg\": \"#FFFFFF\", \"axesbgalpha\": null, \"zoomable\": true, \"id\": \"el232441591845124464\", \"lines\": [], \"paths\": [], \"markers\": [], \"texts\": [{\"text\": \"Time\", \"position\": [0.49999999999999994, -0.09657836644591611], \"coordinates\": \"axes\", \"h_anchor\": \"middle\", \"v_baseline\": \"hanging\", \"rotation\": -0.0, \"fontsize\": 10.0, \"color\": \"#000000\", \"alpha\": 1, \"zorder\": 3, \"id\": \"el232441591650298800\"}, {\"text\": \"Score\", \"position\": [-0.09968637992831542, 0.49999999999999994], \"coordinates\": \"axes\", \"h_anchor\": \"middle\", \"v_baseline\": \"auto\", \"rotation\": -90.0, \"fontsize\": 10.0, \"color\": \"#000000\", \"alpha\": 1, \"zorder\": 3, \"id\": \"el232441591650296160\"}], \"collections\": [{\"offsets\": \"data01\", \"xindex\": 0, \"yindex\": 1, \"paths\": [[[[0.0, -0.5], [0.13260155, -0.5], [0.25978993539242673, -0.44731684579412084], [0.3535533905932738, -0.3535533905932738], [0.44731684579412084, -0.25978993539242673], [0.5, -0.13260155], [0.5, 0.0], [0.5, 0.13260155], [0.44731684579412084, 0.25978993539242673], [0.3535533905932738, 0.3535533905932738], [0.25978993539242673, 0.44731684579412084], [0.13260155, 0.5], [0.0, 0.5], [-0.13260155, 0.5], [-0.25978993539242673, 0.44731684579412084], [-0.3535533905932738, 0.3535533905932738], [-0.44731684579412084, 0.25978993539242673], [-0.5, 0.13260155], [-0.5, 0.0], [-0.5, -0.13260155], [-0.44731684579412084, -0.25978993539242673], [-0.3535533905932738, -0.3535533905932738], [-0.25978993539242673, -0.44731684579412084], [-0.13260155, -0.5], [0.0, -0.5]], [\"M\", \"C\", \"C\", \"C\", \"C\", \"C\", \"C\", \"C\", \"C\", \"Z\"]]], \"pathtransforms\": [[6.0, 0.0, 0.0, 6.0, 0.0, 0.0]], \"alphas\": [null], \"edgecolors\": [\"#482172\", \"#228A8D\", \"#45BF6F\", \"#414186\", \"#433C84\", \"#440154\", \"#57C665\", \"#FDE724\"], \"facecolors\": [\"#482172\", \"#228A8D\", \"#45BF6F\", \"#414186\", \"#433C84\", \"#440154\", \"#57C665\", \"#FDE724\"], \"edgewidths\": [1.0], \"offsetcoordinates\": \"data\", \"pathcoordinates\": \"display\", \"zorder\": 1, \"id\": \"el232441591560349344\"}, {\"offsets\": \"data02\", \"xindex\": 0, \"yindex\": 1, \"paths\": [[[[-5.457366170000131, 0.5320198187735263], [115.15361156999995, 0.5320198187735263]], [\"M\", \"L\"]]], \"pathtransforms\": [], \"alphas\": [null], \"edgecolors\": [\"#000000\"], \"facecolors\": [], \"edgewidths\": [1.5], \"offsetcoordinates\": \"display\", \"pathcoordinates\": \"data\", \"zorder\": 2, \"id\": \"el232441591845126048\"}], \"images\": [], \"sharex\": [], \"sharey\": []}], \"data\": {\"data01\": [[15.761741, 0.5769063446860471], [44.15818150000001, 0.570678743790779], [109.67129439999997, 0.5683478085834808], [41.47178859999997, 0.5732492000683405], [8.094218399999932, 0.5769063446860471], [31.370337600000084, 0.5579461514114318], [0.024950999999873602, 0.5480422659587234], [0.04257939999979499, 0.5769063446860471]], \"data02\": [[0.0, 0.0]]}, \"id\": \"el232441591560496032\", \"plugins\": [{\"type\": \"reset\"}, {\"type\": \"zoom\", \"button\": true, \"enabled\": false}, {\"type\": \"boxzoom\", \"button\": true, \"enabled\": false}, {\"type\": \"tooltip\", \"id\": \"el232441591560349344\", \"labels\": [\"SPEC(10)\", \"SFS(10)\", \"AddDel\", \"HillClimbing\", \"MOS\", \"BestSum\", \"Univariate(TScore, 10)\", \"Univariate(FRatio, 10)\"], \"hoffset\": 0, \"voffset\": 10, \"location\": \"mouse\"}]});\n",
       "            })\n",
       "         });\n",
       "}\n",
       "</script>"
      ],
      "text/plain": [
       "<Figure size 432x288 with 1 Axes>"
      ]
     },
     "metadata": {
      "needs_background": "light"
     },
     "output_type": "display_data"
    }
   ],
   "source": [
    "plot_results('tall', False)"
   ]
  },
  {
   "cell_type": "raw",
   "metadata": {},
   "source": [
    "Еще раз ссылка на либу: https://github.com/ctlab/ITMO_FS\n",
    "Pip: pip install git+https://github.com/ctlab/ITMO_FS\n",
    "Документация: https://itmo-fs.readthedocs.io/en/latest/"
   ]
  }
 ],
 "metadata": {
  "kernelspec": {
   "display_name": "Python 3",
   "language": "python",
   "name": "python3"
  },
  "language_info": {
   "codemirror_mode": {
    "name": "ipython",
    "version": 3
   },
   "file_extension": ".py",
   "mimetype": "text/x-python",
   "name": "python",
   "nbconvert_exporter": "python",
   "pygments_lexer": "ipython3",
   "version": "3.8.2"
  }
 },
 "nbformat": 4,
 "nbformat_minor": 4
}
